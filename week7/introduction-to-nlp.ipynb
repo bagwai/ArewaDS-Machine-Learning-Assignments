{
 "cells": [
  {
   "cell_type": "markdown",
   "metadata": {},
   "source": [
    "### Building the bot"
   ]
  },
  {
   "cell_type": "code",
   "execution_count": 3,
   "metadata": {},
   "outputs": [],
   "source": [
    "import random"
   ]
  },
  {
   "cell_type": "code",
   "execution_count": 2,
   "metadata": {},
   "outputs": [],
   "source": [
    "random_responses = [\"That is quite interesting, please tell me more.\",\n",
    "                    \"I see. Do go on.\",\n",
    "                    \"Why do you say that?\",\n",
    "                    \"Funny weather we've been having, isn't it?\",\n",
    "                    \"Let's change the subject.\",\n",
    "                    \"Did you catch the game last night?\"]"
   ]
  },
  {
   "cell_type": "code",
   "execution_count": 4,
   "metadata": {},
   "outputs": [
    {
     "name": "stdout",
     "output_type": "stream",
     "text": [
      "Hello, I am Marvin, the simple robot.\n",
      "You can end this conversation at any time by typing 'bye'\n",
      "After typing each answer, press 'enter'\n"
     ]
    }
   ],
   "source": [
    "print(\"Hello, I am Marvin, the simple robot.\")\n",
    "print(\"You can end this conversation at any time by typing 'bye'\")\n",
    "print(\"After typing each answer, press 'enter'\")"
   ]
  },
  {
   "cell_type": "code",
   "execution_count": 6,
   "metadata": {},
   "outputs": [
    {
     "name": "stdout",
     "output_type": "stream",
     "text": [
      "That is quite interesting, please tell me more.\n",
      "I see. Do go on.\n",
      "Let's change the subject.\n",
      "Did you catch the game last night?\n",
      "That is quite interesting, please tell me more.\n",
      "Funny weather we've been having, isn't it?\n",
      "It was nice talking to you, goodbye!\n"
     ]
    }
   ],
   "source": [
    "# Conversation loop\n",
    "while True:\n",
    "    user_input = input(\"> \")  # Accept user input\n",
    "\n",
    "    if user_input.lower() == \"bye\":  # Check if user wants to exit\n",
    "        print(\"It was nice talking to you, goodbye!\")\n",
    "        break\n",
    "\n",
    "    response = random.choice(random_responses)  # Get a random response\n",
    "    print(response)"
   ]
  },
  {
   "attachments": {},
   "cell_type": "markdown",
   "metadata": {},
   "source": [
    "This code sets up the conversation loop, where the bot continuously interacts with the user. The random.choice() function is used to select a random response from the random_responses list. The loop continues until the user enters \"bye\" to exit the conversation."
   ]
  }
 ],
 "metadata": {
  "kernelspec": {
   "display_name": "Python 3",
   "language": "python",
   "name": "python3"
  },
  "language_info": {
   "codemirror_mode": {
    "name": "ipython",
    "version": 3
   },
   "file_extension": ".py",
   "mimetype": "text/x-python",
   "name": "python",
   "nbconvert_exporter": "python",
   "pygments_lexer": "ipython3",
   "version": "3.11.0"
  },
  "orig_nbformat": 4
 },
 "nbformat": 4,
 "nbformat_minor": 2
}
